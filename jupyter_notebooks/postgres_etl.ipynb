{
 "cells": [
  {
   "cell_type": "code",
   "execution_count": 1,
   "metadata": {},
   "outputs": [],
   "source": [
    "import psycopg2\n",
    "import pandas as pd\n",
    "from sqlalchemy import create_engine\n",
    "from sqlalchemy.exc import SQLAlchemyError\n",
    "import sqlalchemy\n",
    "from sqlalchemy.ext.automap import automap_base\n",
    "from sqlalchemy.orm import Session\n",
    "from sqlalchemy import create_engine\n"
   ]
  },
  {
   "cell_type": "code",
   "execution_count": 2,
   "metadata": {},
   "outputs": [],
   "source": [
    "# Paths\n",
    "covid_crime_data = pd.read_csv('../Output/clean_covid_crime_data.csv')\n",
    "income_data = pd.read_csv('../Output/clean_income_data.csv')\n",
    "employment_data = pd.read_csv('../Output/employement_clean.csv')\n"
   ]
  },
  {
   "cell_type": "code",
   "execution_count": 3,
   "metadata": {},
   "outputs": [],
   "source": [
    "# Postgres connection info\n",
    "username = 'postgres'\n",
    "password = 'postgres'\n",
    "host = 'localhost'\n",
    "port = '5432'\n",
    "database = 'covid_crime_db'\n",
    "\n",
    "engine = create_engine(f'postgresql://{username}:{password}@{host}:{port}/{database}')"
   ]
  },
  {
   "cell_type": "code",
   "execution_count": 4,
   "metadata": {},
   "outputs": [],
   "source": [
    "# Connect to default database\n",
    "default_engine = create_engine(f'postgresql://{username}:{password}@{host}:{port}/postgres')"
   ]
  },
  {
   "cell_type": "code",
   "execution_count": 5,
   "metadata": {},
   "outputs": [],
   "source": [
    "# Create a new database\n",
    "try:\n",
    "    # Connect to the database\n",
    "    conn = default_engine.connect()\n",
    "    \n",
    "    # Create new database\n",
    "    conn.execute(\"commit\")\n",
    "    conn.execute(\"CREATE DATABASE covid_crime_db\")\n",
    "    \n",
    "    # Close the connection\n",
    "    conn.close()\n",
    "except OperationalError as e:\n",
    "    print(f\"Error occurred: {e}\")\n",
    "\n",
    "# Now connect to your newly created database\n",
    "new_db_engine = create_engine(f'postgresql://{username}:{password}@{host}:{port}/covid_crime_db')"
   ]
  },
  {
   "cell_type": "code",
   "execution_count": 6,
   "metadata": {},
   "outputs": [
    {
     "data": {
      "text/plain": [
       "840"
      ]
     },
     "execution_count": 6,
     "metadata": {},
     "output_type": "execute_result"
    }
   ],
   "source": [
    "# import contacts to sql\n",
    "covid_crime_data.to_sql(\"crime\", con=engine.connect(), if_exists='replace')\n",
    "income_data.to_sql(\"income\", con=engine.connect(), if_exists='replace')\n",
    "employment_data.to_sql(\"employment\", con=engine.connect(), if_exists='replace')"
   ]
  },
  {
   "cell_type": "code",
   "execution_count": 7,
   "metadata": {},
   "outputs": [],
   "source": [
    "with engine.connect() as con:\n",
    "    con.execute('ALTER TABLE crime ADD PRIMARY KEY (index);')\n",
    "    con.execute('ALTER TABLE income ADD PRIMARY KEY (index);')\n",
    "    con.execute('ALTER TABLE employment ADD PRIMARY KEY (index);')"
   ]
  },
  {
   "cell_type": "code",
   "execution_count": null,
   "metadata": {},
   "outputs": [],
   "source": []
  }
 ],
 "metadata": {
  "kernelspec": {
   "display_name": "dev",
   "language": "python",
   "name": "python3"
  },
  "language_info": {
   "codemirror_mode": {
    "name": "ipython",
    "version": 3
   },
   "file_extension": ".py",
   "mimetype": "text/x-python",
   "name": "python",
   "nbconvert_exporter": "python",
   "pygments_lexer": "ipython3",
   "version": "3.10.12"
  }
 },
 "nbformat": 4,
 "nbformat_minor": 2
}
