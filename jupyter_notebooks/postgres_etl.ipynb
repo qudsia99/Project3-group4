{
 "cells": [
  {
   "cell_type": "code",
   "execution_count": 66,
   "metadata": {},
   "outputs": [],
   "source": [
    "import psycopg2\n",
    "from sqlalchemy import create_engine\n",
    "from sqlalchemy.exc import SQLAlchemyError\n",
    "import sqlalchemy\n",
    "from sqlalchemy.ext.automap import automap_base\n",
    "from sqlalchemy.orm import Session\n",
    "from sqlalchemy import create_engine\n"
   ]
  },
  {
   "cell_type": "code",
   "execution_count": 67,
   "metadata": {},
   "outputs": [],
   "source": [
    "# Paths\n",
    "covid_crime_data = pd.read_csv('../Output/clean_covid_crime_data.csv')\n",
    "income_data = pd.read_csv('../Output/clean_income_data.csv')\n",
    "employment_data = pd.read_csv('../Output/employement_clean.csv')\n"
   ]
  },
  {
   "cell_type": "code",
   "execution_count": null,
   "metadata": {},
   "outputs": [],
   "source": []
  },
  {
   "cell_type": "code",
   "execution_count": 68,
   "metadata": {},
   "outputs": [],
   "source": [
    "# Postgres connection info\n",
    "username = 'postgres'\n",
    "password = 'postgres'\n",
    "host = 'localhost'\n",
    "port = '5433'\n",
    "database = 'covid_crime_db'\n",
    "\n",
    "engine = create_engine(f'postgresql://{username}:{password}@{host}:{port}/{database}')"
   ]
  },
  {
   "cell_type": "code",
   "execution_count": 69,
   "metadata": {},
   "outputs": [],
   "source": [
    "# Connect to default database\n",
    "default_engine = create_engine(f'postgresql://{username}:{password}@{host}:{port}/postgres')"
   ]
  },
  {
   "cell_type": "code",
   "execution_count": 94,
   "metadata": {},
   "outputs": [
    {
     "data": {
      "text/plain": [
       "840"
      ]
     },
     "execution_count": 94,
     "metadata": {},
     "output_type": "execute_result"
    }
   ],
   "source": [
    "# import contacts to sql\n",
    "covid_crime_data.to_sql(\"crime\", con=engine.connect(), if_exists='replace')\n",
    "income_data.to_sql(\"income\", con=engine.connect(), if_exists='replace')\n",
    "employment_data.to_sql(\"employment\", con=engine.connect(), if_exists='replace')"
   ]
  },
  {
   "cell_type": "code",
   "execution_count": 70,
   "metadata": {},
   "outputs": [
    {
     "ename": "ProgrammingError",
     "evalue": "(psycopg2.errors.DuplicateDatabase) database \"covid_crime_db\" already exists\n\n[SQL: CREATE DATABASE covid_crime_db]\n(Background on this error at: https://sqlalche.me/e/14/f405)",
     "output_type": "error",
     "traceback": [
      "\u001b[1;31m---------------------------------------------------------------------------\u001b[0m",
      "\u001b[1;31mDuplicateDatabase\u001b[0m                         Traceback (most recent call last)",
      "File \u001b[1;32mc:\\Users\\neilg\\anaconda3\\envs\\dev\\lib\\site-packages\\sqlalchemy\\engine\\base.py:1819\u001b[0m, in \u001b[0;36mConnection._execute_context\u001b[1;34m(self, dialect, constructor, statement, parameters, execution_options, *args, **kw)\u001b[0m\n\u001b[0;32m   1818\u001b[0m     \u001b[39mif\u001b[39;00m \u001b[39mnot\u001b[39;00m evt_handled:\n\u001b[1;32m-> 1819\u001b[0m         \u001b[39mself\u001b[39;49m\u001b[39m.\u001b[39;49mdialect\u001b[39m.\u001b[39;49mdo_execute(\n\u001b[0;32m   1820\u001b[0m             cursor, statement, parameters, context\n\u001b[0;32m   1821\u001b[0m         )\n\u001b[0;32m   1823\u001b[0m \u001b[39mif\u001b[39;00m \u001b[39mself\u001b[39m\u001b[39m.\u001b[39m_has_events \u001b[39mor\u001b[39;00m \u001b[39mself\u001b[39m\u001b[39m.\u001b[39mengine\u001b[39m.\u001b[39m_has_events:\n",
      "File \u001b[1;32mc:\\Users\\neilg\\anaconda3\\envs\\dev\\lib\\site-packages\\sqlalchemy\\engine\\default.py:732\u001b[0m, in \u001b[0;36mDefaultDialect.do_execute\u001b[1;34m(self, cursor, statement, parameters, context)\u001b[0m\n\u001b[0;32m    731\u001b[0m \u001b[39mdef\u001b[39;00m \u001b[39mdo_execute\u001b[39m(\u001b[39mself\u001b[39m, cursor, statement, parameters, context\u001b[39m=\u001b[39m\u001b[39mNone\u001b[39;00m):\n\u001b[1;32m--> 732\u001b[0m     cursor\u001b[39m.\u001b[39;49mexecute(statement, parameters)\n",
      "\u001b[1;31mDuplicateDatabase\u001b[0m: database \"covid_crime_db\" already exists\n",
      "\nThe above exception was the direct cause of the following exception:\n",
      "\u001b[1;31mProgrammingError\u001b[0m                          Traceback (most recent call last)",
      "\u001b[1;32mc:\\Users\\neilg\\ut\\homework\\Group Project 3\\Project3-group4\\jupyter_notebooks\\postgres_etl.ipynb Cell 5\u001b[0m line \u001b[0;36m8\n\u001b[0;32m      <a href='vscode-notebook-cell:/c%3A/Users/neilg/ut/homework/Group%20Project%203/Project3-group4/jupyter_notebooks/postgres_etl.ipynb#X13sZmlsZQ%3D%3D?line=5'>6</a>\u001b[0m \u001b[39m# Create new database\u001b[39;00m\n\u001b[0;32m      <a href='vscode-notebook-cell:/c%3A/Users/neilg/ut/homework/Group%20Project%203/Project3-group4/jupyter_notebooks/postgres_etl.ipynb#X13sZmlsZQ%3D%3D?line=6'>7</a>\u001b[0m conn\u001b[39m.\u001b[39mexecute(\u001b[39m\"\u001b[39m\u001b[39mcommit\u001b[39m\u001b[39m\"\u001b[39m)\n\u001b[1;32m----> <a href='vscode-notebook-cell:/c%3A/Users/neilg/ut/homework/Group%20Project%203/Project3-group4/jupyter_notebooks/postgres_etl.ipynb#X13sZmlsZQ%3D%3D?line=7'>8</a>\u001b[0m conn\u001b[39m.\u001b[39;49mexecute(\u001b[39m\"\u001b[39;49m\u001b[39mCREATE DATABASE covid_crime_db\u001b[39;49m\u001b[39m\"\u001b[39;49m)\n\u001b[0;32m     <a href='vscode-notebook-cell:/c%3A/Users/neilg/ut/homework/Group%20Project%203/Project3-group4/jupyter_notebooks/postgres_etl.ipynb#X13sZmlsZQ%3D%3D?line=9'>10</a>\u001b[0m \u001b[39m# Close the connection\u001b[39;00m\n\u001b[0;32m     <a href='vscode-notebook-cell:/c%3A/Users/neilg/ut/homework/Group%20Project%203/Project3-group4/jupyter_notebooks/postgres_etl.ipynb#X13sZmlsZQ%3D%3D?line=10'>11</a>\u001b[0m conn\u001b[39m.\u001b[39mclose()\n",
      "File \u001b[1;32mc:\\Users\\neilg\\anaconda3\\envs\\dev\\lib\\site-packages\\sqlalchemy\\engine\\base.py:1291\u001b[0m, in \u001b[0;36mConnection.execute\u001b[1;34m(self, statement, *multiparams, **params)\u001b[0m\n\u001b[0;32m   1282\u001b[0m \u001b[39mif\u001b[39;00m \u001b[39misinstance\u001b[39m(statement, util\u001b[39m.\u001b[39mstring_types):\n\u001b[0;32m   1283\u001b[0m     util\u001b[39m.\u001b[39mwarn_deprecated_20(\n\u001b[0;32m   1284\u001b[0m         \u001b[39m\"\u001b[39m\u001b[39mPassing a string to Connection.execute() is \u001b[39m\u001b[39m\"\u001b[39m\n\u001b[0;32m   1285\u001b[0m         \u001b[39m\"\u001b[39m\u001b[39mdeprecated and will be removed in version 2.0.  Use the \u001b[39m\u001b[39m\"\u001b[39m\n\u001b[1;32m   (...)\u001b[0m\n\u001b[0;32m   1288\u001b[0m         \u001b[39m\"\u001b[39m\u001b[39mdriver-level SQL string.\u001b[39m\u001b[39m\"\u001b[39m\n\u001b[0;32m   1289\u001b[0m     )\n\u001b[1;32m-> 1291\u001b[0m     \u001b[39mreturn\u001b[39;00m \u001b[39mself\u001b[39;49m\u001b[39m.\u001b[39;49m_exec_driver_sql(\n\u001b[0;32m   1292\u001b[0m         statement,\n\u001b[0;32m   1293\u001b[0m         multiparams,\n\u001b[0;32m   1294\u001b[0m         params,\n\u001b[0;32m   1295\u001b[0m         _EMPTY_EXECUTION_OPTS,\n\u001b[0;32m   1296\u001b[0m         future\u001b[39m=\u001b[39;49m\u001b[39mFalse\u001b[39;49;00m,\n\u001b[0;32m   1297\u001b[0m     )\n\u001b[0;32m   1299\u001b[0m \u001b[39mtry\u001b[39;00m:\n\u001b[0;32m   1300\u001b[0m     meth \u001b[39m=\u001b[39m statement\u001b[39m.\u001b[39m_execute_on_connection\n",
      "File \u001b[1;32mc:\\Users\\neilg\\anaconda3\\envs\\dev\\lib\\site-packages\\sqlalchemy\\engine\\base.py:1595\u001b[0m, in \u001b[0;36mConnection._exec_driver_sql\u001b[1;34m(self, statement, multiparams, params, execution_options, future)\u001b[0m\n\u001b[0;32m   1585\u001b[0m         (\n\u001b[0;32m   1586\u001b[0m             statement,\n\u001b[0;32m   1587\u001b[0m             distilled_params,\n\u001b[1;32m   (...)\u001b[0m\n\u001b[0;32m   1591\u001b[0m             statement, distilled_parameters, execution_options\n\u001b[0;32m   1592\u001b[0m         )\n\u001b[0;32m   1594\u001b[0m dialect \u001b[39m=\u001b[39m \u001b[39mself\u001b[39m\u001b[39m.\u001b[39mdialect\n\u001b[1;32m-> 1595\u001b[0m ret \u001b[39m=\u001b[39m \u001b[39mself\u001b[39;49m\u001b[39m.\u001b[39;49m_execute_context(\n\u001b[0;32m   1596\u001b[0m     dialect,\n\u001b[0;32m   1597\u001b[0m     dialect\u001b[39m.\u001b[39;49mexecution_ctx_cls\u001b[39m.\u001b[39;49m_init_statement,\n\u001b[0;32m   1598\u001b[0m     statement,\n\u001b[0;32m   1599\u001b[0m     distilled_parameters,\n\u001b[0;32m   1600\u001b[0m     execution_options,\n\u001b[0;32m   1601\u001b[0m     statement,\n\u001b[0;32m   1602\u001b[0m     distilled_parameters,\n\u001b[0;32m   1603\u001b[0m )\n\u001b[0;32m   1605\u001b[0m \u001b[39mif\u001b[39;00m \u001b[39mnot\u001b[39;00m future:\n\u001b[0;32m   1606\u001b[0m     \u001b[39mif\u001b[39;00m \u001b[39mself\u001b[39m\u001b[39m.\u001b[39m_has_events \u001b[39mor\u001b[39;00m \u001b[39mself\u001b[39m\u001b[39m.\u001b[39mengine\u001b[39m.\u001b[39m_has_events:\n",
      "File \u001b[1;32mc:\\Users\\neilg\\anaconda3\\envs\\dev\\lib\\site-packages\\sqlalchemy\\engine\\base.py:1862\u001b[0m, in \u001b[0;36mConnection._execute_context\u001b[1;34m(self, dialect, constructor, statement, parameters, execution_options, *args, **kw)\u001b[0m\n\u001b[0;32m   1859\u001b[0m             branched\u001b[39m.\u001b[39mclose()\n\u001b[0;32m   1861\u001b[0m \u001b[39mexcept\u001b[39;00m \u001b[39mBaseException\u001b[39;00m \u001b[39mas\u001b[39;00m e:\n\u001b[1;32m-> 1862\u001b[0m     \u001b[39mself\u001b[39;49m\u001b[39m.\u001b[39;49m_handle_dbapi_exception(\n\u001b[0;32m   1863\u001b[0m         e, statement, parameters, cursor, context\n\u001b[0;32m   1864\u001b[0m     )\n\u001b[0;32m   1866\u001b[0m \u001b[39mreturn\u001b[39;00m result\n",
      "File \u001b[1;32mc:\\Users\\neilg\\anaconda3\\envs\\dev\\lib\\site-packages\\sqlalchemy\\engine\\base.py:2043\u001b[0m, in \u001b[0;36mConnection._handle_dbapi_exception\u001b[1;34m(self, e, statement, parameters, cursor, context)\u001b[0m\n\u001b[0;32m   2041\u001b[0m     util\u001b[39m.\u001b[39mraise_(newraise, with_traceback\u001b[39m=\u001b[39mexc_info[\u001b[39m2\u001b[39m], from_\u001b[39m=\u001b[39me)\n\u001b[0;32m   2042\u001b[0m \u001b[39melif\u001b[39;00m should_wrap:\n\u001b[1;32m-> 2043\u001b[0m     util\u001b[39m.\u001b[39;49mraise_(\n\u001b[0;32m   2044\u001b[0m         sqlalchemy_exception, with_traceback\u001b[39m=\u001b[39;49mexc_info[\u001b[39m2\u001b[39;49m], from_\u001b[39m=\u001b[39;49me\n\u001b[0;32m   2045\u001b[0m     )\n\u001b[0;32m   2046\u001b[0m \u001b[39melse\u001b[39;00m:\n\u001b[0;32m   2047\u001b[0m     util\u001b[39m.\u001b[39mraise_(exc_info[\u001b[39m1\u001b[39m], with_traceback\u001b[39m=\u001b[39mexc_info[\u001b[39m2\u001b[39m])\n",
      "File \u001b[1;32mc:\\Users\\neilg\\anaconda3\\envs\\dev\\lib\\site-packages\\sqlalchemy\\util\\compat.py:208\u001b[0m, in \u001b[0;36mraise_\u001b[1;34m(***failed resolving arguments***)\u001b[0m\n\u001b[0;32m    205\u001b[0m     exception\u001b[39m.\u001b[39m__cause__ \u001b[39m=\u001b[39m replace_context\n\u001b[0;32m    207\u001b[0m \u001b[39mtry\u001b[39;00m:\n\u001b[1;32m--> 208\u001b[0m     \u001b[39mraise\u001b[39;00m exception\n\u001b[0;32m    209\u001b[0m \u001b[39mfinally\u001b[39;00m:\n\u001b[0;32m    210\u001b[0m     \u001b[39m# credit to\u001b[39;00m\n\u001b[0;32m    211\u001b[0m     \u001b[39m# https://cosmicpercolator.com/2016/01/13/exception-leaks-in-python-2-and-3/\u001b[39;00m\n\u001b[0;32m    212\u001b[0m     \u001b[39m# as the __traceback__ object creates a cycle\u001b[39;00m\n\u001b[0;32m    213\u001b[0m     \u001b[39mdel\u001b[39;00m exception, replace_context, from_, with_traceback\n",
      "File \u001b[1;32mc:\\Users\\neilg\\anaconda3\\envs\\dev\\lib\\site-packages\\sqlalchemy\\engine\\base.py:1819\u001b[0m, in \u001b[0;36mConnection._execute_context\u001b[1;34m(self, dialect, constructor, statement, parameters, execution_options, *args, **kw)\u001b[0m\n\u001b[0;32m   1817\u001b[0m                 \u001b[39mbreak\u001b[39;00m\n\u001b[0;32m   1818\u001b[0m     \u001b[39mif\u001b[39;00m \u001b[39mnot\u001b[39;00m evt_handled:\n\u001b[1;32m-> 1819\u001b[0m         \u001b[39mself\u001b[39;49m\u001b[39m.\u001b[39;49mdialect\u001b[39m.\u001b[39;49mdo_execute(\n\u001b[0;32m   1820\u001b[0m             cursor, statement, parameters, context\n\u001b[0;32m   1821\u001b[0m         )\n\u001b[0;32m   1823\u001b[0m \u001b[39mif\u001b[39;00m \u001b[39mself\u001b[39m\u001b[39m.\u001b[39m_has_events \u001b[39mor\u001b[39;00m \u001b[39mself\u001b[39m\u001b[39m.\u001b[39mengine\u001b[39m.\u001b[39m_has_events:\n\u001b[0;32m   1824\u001b[0m     \u001b[39mself\u001b[39m\u001b[39m.\u001b[39mdispatch\u001b[39m.\u001b[39mafter_cursor_execute(\n\u001b[0;32m   1825\u001b[0m         \u001b[39mself\u001b[39m,\n\u001b[0;32m   1826\u001b[0m         cursor,\n\u001b[1;32m   (...)\u001b[0m\n\u001b[0;32m   1830\u001b[0m         context\u001b[39m.\u001b[39mexecutemany,\n\u001b[0;32m   1831\u001b[0m     )\n",
      "File \u001b[1;32mc:\\Users\\neilg\\anaconda3\\envs\\dev\\lib\\site-packages\\sqlalchemy\\engine\\default.py:732\u001b[0m, in \u001b[0;36mDefaultDialect.do_execute\u001b[1;34m(self, cursor, statement, parameters, context)\u001b[0m\n\u001b[0;32m    731\u001b[0m \u001b[39mdef\u001b[39;00m \u001b[39mdo_execute\u001b[39m(\u001b[39mself\u001b[39m, cursor, statement, parameters, context\u001b[39m=\u001b[39m\u001b[39mNone\u001b[39;00m):\n\u001b[1;32m--> 732\u001b[0m     cursor\u001b[39m.\u001b[39;49mexecute(statement, parameters)\n",
      "\u001b[1;31mProgrammingError\u001b[0m: (psycopg2.errors.DuplicateDatabase) database \"covid_crime_db\" already exists\n\n[SQL: CREATE DATABASE covid_crime_db]\n(Background on this error at: https://sqlalche.me/e/14/f405)"
     ]
    }
   ],
   "source": [
    "# Create a new database\n",
    "try:\n",
    "    # Connect to the database\n",
    "    conn = default_engine.connect()\n",
    "    \n",
    "    # Create new database\n",
    "    conn.execute(\"commit\")\n",
    "    conn.execute(\"CREATE DATABASE covid_crime_db\")\n",
    "    \n",
    "    # Close the connection\n",
    "    conn.close()\n",
    "except OperationalError as e:\n",
    "    print(f\"Error occurred: {e}\")\n",
    "\n",
    "# Now connect to your newly created database\n",
    "new_db_engine = create_engine(f'postgresql://{username}:{password}@{host}:{port}/covid_crime_db')"
   ]
  },
  {
   "cell_type": "code",
   "execution_count": 92,
   "metadata": {},
   "outputs": [
    {
     "name": "stdout",
     "output_type": "stream",
     "text": [
      "An error occurred when creating tables: (psycopg2.errors.DuplicateTable) relation \"crime_data_table\" already exists\n",
      "\n",
      "[SQL: CREATE TABLE \"crime_data_table\" (\n",
      "    \"Vector ID\" varchar(255)   NOT NULL,\n",
      "    \"Year\" date   NOT NULL,\n",
      "    \"Province\" varchar   NOT NULL,\n",
      "    \"Crime Category\" varchar   NOT NULL,\n",
      "    \"Crime Type\" varchar   NOT NULL,\n",
      "    \"Coordinate\" varchar   NOT NULL,\n",
      "    \"Value\" int   NOT NULL    \n",
      ");\n",
      "\n",
      "CREATE TABLE \"income_data_table\" (\n",
      "    \"Vector ID\" varchar(255)   NOT NULL,\n",
      "    \"Year\" date   NOT NULL,\n",
      "    \"Province\" varchar   NOT NULL,\n",
      "    \"Unit of Measure\" varchar   NOT NULL,\n",
      "    \"Value\" float   NOT NULL   \n",
      ");\n",
      "\n",
      "CREATE TABLE \"employment_data_table\" (\n",
      "    \"Vector ID\" varchar(255)   NOT NULL,\n",
      "    \"Year\" date   NOT NULL,\n",
      "    \"Labour force characteristics\" varchar   NOT NULL,\n",
      "    \"sex\" varchar   NOT NULL,\n",
      "    \"Unit of Measure\" varchar   NOT NULL,\n",
      "    \"Value\" float   NOT NULL,\n",
      "    \"Coordinate\" varchar   NOT NULL    \n",
      ");\n",
      "\n",
      "]\n",
      "(Background on this error at: https://sqlalche.me/e/14/f405)\n"
     ]
    }
   ],
   "source": [
    "# Execute the SQL script to create the tables\n",
    "try:\n",
    "    with open(r'C:\\Users\\neilg\\ut\\homework\\Group Project 3\\Project3-group4\\jupyter_notebooks\\schema3.sql', 'r', encoding='utf-8-sig') as file:\n",
    "        schema_sql = file.read()\n",
    "\n",
    "    with engine.connect() as connection:\n",
    "        trans = connection.begin()\n",
    "        connection.execute(schema_sql)\n",
    "        trans.commit()\n",
    "    print(\"Tables created successfully.\")\n",
    "    \n",
    "except SQLAlchemyError as e:\n",
    "    print(f\"An error occurred when creating tables: {e}\")"
   ]
  },
  {
   "cell_type": "code",
   "execution_count": 87,
   "metadata": {},
   "outputs": [],
   "source": [
    "from sqlalchemy import create_engine, MetaData\n",
    "from sqlalchemy.orm import mapper, sessionmaker\n",
    "\n",
    "# Define ORM classes\n",
    "class CrimeData(object):\n",
    "    pass\n",
    "\n",
    "class IncomeData(object):\n",
    "    pass\n",
    "\n",
    "class EmploymentData(object):\n",
    "    pass\n",
    "\n",
    "\n"
   ]
  },
  {
   "cell_type": "code",
   "execution_count": 88,
   "metadata": {},
   "outputs": [],
   "source": [
    "# Create an engine (replace with your database URL)\n",
    "engine = create_engine(f'postgresql://{username}:{password}@{host}:{port}/covid_crime_db')\n",
    "\n"
   ]
  },
  {
   "cell_type": "code",
   "execution_count": 89,
   "metadata": {},
   "outputs": [],
   "source": [
    "# Reflect the existing database tables\n",
    "metadata = MetaData(engine)\n",
    "metadata.reflect()"
   ]
  },
  {
   "cell_type": "code",
   "execution_count": 93,
   "metadata": {},
   "outputs": [
    {
     "ename": "ArgumentError",
     "evalue": "Class '<class '__main__.CrimeData'>' already has a primary mapper defined. ",
     "output_type": "error",
     "traceback": [
      "\u001b[1;31m---------------------------------------------------------------------------\u001b[0m",
      "\u001b[1;31mArgumentError\u001b[0m                             Traceback (most recent call last)",
      "\u001b[1;32mc:\\Users\\neilg\\ut\\homework\\Group Project 3\\Project3-group4\\jupyter_notebooks\\postgres_etl.ipynb Cell 10\u001b[0m line \u001b[0;36m2\n\u001b[0;32m      <a href='vscode-notebook-cell:/c%3A/Users/neilg/ut/homework/Group%20Project%203/Project3-group4/jupyter_notebooks/postgres_etl.ipynb#X21sZmlsZQ%3D%3D?line=0'>1</a>\u001b[0m \u001b[39m# Map the classes to the tables\u001b[39;00m\n\u001b[1;32m----> <a href='vscode-notebook-cell:/c%3A/Users/neilg/ut/homework/Group%20Project%203/Project3-group4/jupyter_notebooks/postgres_etl.ipynb#X21sZmlsZQ%3D%3D?line=1'>2</a>\u001b[0m mapper(CrimeData, metadata\u001b[39m.\u001b[39;49mtables[\u001b[39m'\u001b[39;49m\u001b[39mcrime_data_table\u001b[39;49m\u001b[39m'\u001b[39;49m])\n",
      "File \u001b[1;32m<string>:2\u001b[0m, in \u001b[0;36mmapper\u001b[1;34m(class_, local_table, properties, primary_key, non_primary, inherits, inherit_condition, inherit_foreign_keys, always_refresh, version_id_col, version_id_generator, polymorphic_on, _polymorphic_map, polymorphic_identity, concrete, with_polymorphic, polymorphic_load, allow_partial_pks, batch, column_prefix, include_properties, exclude_properties, passive_updates, passive_deletes, confirm_deleted_rows, eager_defaults, legacy_is_orphan, _compiled_cache_size)\u001b[0m\n",
      "File \u001b[1;32m<string>:2\u001b[0m, in \u001b[0;36m__init__\u001b[1;34m(self, class_, local_table, properties, primary_key, non_primary, inherits, inherit_condition, inherit_foreign_keys, always_refresh, version_id_col, version_id_generator, polymorphic_on, _polymorphic_map, polymorphic_identity, concrete, with_polymorphic, polymorphic_load, allow_partial_pks, batch, column_prefix, include_properties, exclude_properties, passive_updates, passive_deletes, confirm_deleted_rows, eager_defaults, legacy_is_orphan, _compiled_cache_size)\u001b[0m\n",
      "File \u001b[1;32mc:\\Users\\neilg\\anaconda3\\envs\\dev\\lib\\site-packages\\sqlalchemy\\util\\deprecations.py:309\u001b[0m, in \u001b[0;36mdeprecated_params.<locals>.decorate.<locals>.warned\u001b[1;34m(fn, *args, **kwargs)\u001b[0m\n\u001b[0;32m    302\u001b[0m     \u001b[39mif\u001b[39;00m m \u001b[39min\u001b[39;00m kwargs:\n\u001b[0;32m    303\u001b[0m         _warn_with_version(\n\u001b[0;32m    304\u001b[0m             messages[m],\n\u001b[0;32m    305\u001b[0m             versions[m],\n\u001b[0;32m    306\u001b[0m             version_warnings[m],\n\u001b[0;32m    307\u001b[0m             stacklevel\u001b[39m=\u001b[39m\u001b[39m3\u001b[39m,\n\u001b[0;32m    308\u001b[0m         )\n\u001b[1;32m--> 309\u001b[0m \u001b[39mreturn\u001b[39;00m fn(\u001b[39m*\u001b[39margs, \u001b[39m*\u001b[39m\u001b[39m*\u001b[39mkwargs)\n",
      "File \u001b[1;32mc:\\Users\\neilg\\anaconda3\\envs\\dev\\lib\\site-packages\\sqlalchemy\\orm\\mapper.py:690\u001b[0m, in \u001b[0;36mMapper.__init__\u001b[1;34m(self, class_, local_table, properties, primary_key, non_primary, inherits, inherit_condition, inherit_foreign_keys, always_refresh, version_id_col, version_id_generator, polymorphic_on, _polymorphic_map, polymorphic_identity, concrete, with_polymorphic, polymorphic_load, allow_partial_pks, batch, column_prefix, include_properties, exclude_properties, passive_updates, passive_deletes, confirm_deleted_rows, eager_defaults, legacy_is_orphan, _compiled_cache_size)\u001b[0m\n\u001b[0;32m    688\u001b[0m \u001b[39mself\u001b[39m\u001b[39m.\u001b[39mdispatch\u001b[39m.\u001b[39m_events\u001b[39m.\u001b[39m_new_mapper_instance(class_, \u001b[39mself\u001b[39m)\n\u001b[0;32m    689\u001b[0m \u001b[39mself\u001b[39m\u001b[39m.\u001b[39m_configure_inheritance()\n\u001b[1;32m--> 690\u001b[0m \u001b[39mself\u001b[39;49m\u001b[39m.\u001b[39;49m_configure_class_instrumentation()\n\u001b[0;32m    691\u001b[0m \u001b[39mself\u001b[39m\u001b[39m.\u001b[39m_configure_properties()\n\u001b[0;32m    692\u001b[0m \u001b[39mself\u001b[39m\u001b[39m.\u001b[39m_configure_polymorphic_setter()\n",
      "File \u001b[1;32mc:\\Users\\neilg\\anaconda3\\envs\\dev\\lib\\site-packages\\sqlalchemy\\orm\\mapper.py:1267\u001b[0m, in \u001b[0;36mMapper._configure_class_instrumentation\u001b[1;34m(self)\u001b[0m\n\u001b[0;32m   1260\u001b[0m     \u001b[39massert\u001b[39;00m manager\u001b[39m.\u001b[39mclass_ \u001b[39mis\u001b[39;00m \u001b[39mself\u001b[39m\u001b[39m.\u001b[39mclass_\n\u001b[0;32m   1261\u001b[0m     \u001b[39mif\u001b[39;00m manager\u001b[39m.\u001b[39mis_mapped:\n\u001b[0;32m   1262\u001b[0m         \u001b[39m# changed in #7579:\u001b[39;00m\n\u001b[0;32m   1263\u001b[0m         \u001b[39m# this message is defined in two places as of this change,\u001b[39;00m\n\u001b[0;32m   1264\u001b[0m         \u001b[39m# also in decl_api -> _add_manager().  in 2.0, this codepath\u001b[39;00m\n\u001b[0;32m   1265\u001b[0m         \u001b[39m# is removed as any calls to mapper() / Mapper without\u001b[39;00m\n\u001b[0;32m   1266\u001b[0m         \u001b[39m# the registry setting up first will be rejected.\u001b[39;00m\n\u001b[1;32m-> 1267\u001b[0m         \u001b[39mraise\u001b[39;00m sa_exc\u001b[39m.\u001b[39mArgumentError(\n\u001b[0;32m   1268\u001b[0m             \u001b[39m\"\u001b[39m\u001b[39mClass \u001b[39m\u001b[39m'\u001b[39m\u001b[39m%s\u001b[39;00m\u001b[39m'\u001b[39m\u001b[39m already has a primary mapper defined. \u001b[39m\u001b[39m\"\u001b[39m\n\u001b[0;32m   1269\u001b[0m             \u001b[39m%\u001b[39m \u001b[39mself\u001b[39m\u001b[39m.\u001b[39mclass_\n\u001b[0;32m   1270\u001b[0m         )\n\u001b[0;32m   1271\u001b[0m     \u001b[39m# else:\u001b[39;00m\n\u001b[0;32m   1272\u001b[0m     \u001b[39m# a ClassManager may already exist as\u001b[39;00m\n\u001b[0;32m   1273\u001b[0m     \u001b[39m# ClassManager.instrument_attribute() creates\u001b[39;00m\n\u001b[0;32m   1274\u001b[0m     \u001b[39m# new managers for each subclass if they don't yet exist.\u001b[39;00m\n\u001b[0;32m   1276\u001b[0m \u001b[39mself\u001b[39m\u001b[39m.\u001b[39mdispatch\u001b[39m.\u001b[39minstrument_class(\u001b[39mself\u001b[39m, \u001b[39mself\u001b[39m\u001b[39m.\u001b[39mclass_)\n",
      "\u001b[1;31mArgumentError\u001b[0m: Class '<class '__main__.CrimeData'>' already has a primary mapper defined. "
     ]
    }
   ],
   "source": [
    "# Map the classes to the tables\n",
    "mapper(CrimeData, metadata.tables['crime_data_table'])\n"
   ]
  },
  {
   "cell_type": "code",
   "execution_count": 78,
   "metadata": {},
   "outputs": [
    {
     "data": {
      "text/plain": [
       "<Mapper at 0x26192d7fe50; IncomeData>"
      ]
     },
     "execution_count": 78,
     "metadata": {},
     "output_type": "execute_result"
    }
   ],
   "source": [
    "mapper(IncomeData, metadata.tables['income_data_table'])"
   ]
  },
  {
   "cell_type": "code",
   "execution_count": 79,
   "metadata": {},
   "outputs": [
    {
     "data": {
      "text/plain": [
       "<Mapper at 0x2618edb0190; EmploymentData>"
      ]
     },
     "execution_count": 79,
     "metadata": {},
     "output_type": "execute_result"
    }
   ],
   "source": [
    "mapper(EmploymentData, metadata.tables['employment_data_table'])"
   ]
  },
  {
   "cell_type": "code",
   "execution_count": 80,
   "metadata": {},
   "outputs": [],
   "source": [
    "# Create a session\n",
    "Session = sessionmaker(bind=engine)\n",
    "session = Session()"
   ]
  },
  {
   "cell_type": "code",
   "execution_count": 91,
   "metadata": {},
   "outputs": [
    {
     "ename": "TypeError",
     "evalue": "__init__() got an unexpected keyword argument 'Vector ID'",
     "output_type": "error",
     "traceback": [
      "\u001b[1;31m---------------------------------------------------------------------------\u001b[0m",
      "\u001b[1;31mTypeError\u001b[0m                                 Traceback (most recent call last)",
      "\u001b[1;32mc:\\Users\\neilg\\ut\\homework\\Group Project 3\\Project3-group4\\jupyter_notebooks\\postgres_etl.ipynb Cell 14\u001b[0m line \u001b[0;36m3\n\u001b[0;32m      <a href='vscode-notebook-cell:/c%3A/Users/neilg/ut/homework/Group%20Project%203/Project3-group4/jupyter_notebooks/postgres_etl.ipynb#X23sZmlsZQ%3D%3D?line=0'>1</a>\u001b[0m \u001b[39m# Insert data from DataFrames\u001b[39;00m\n\u001b[0;32m      <a href='vscode-notebook-cell:/c%3A/Users/neilg/ut/homework/Group%20Project%203/Project3-group4/jupyter_notebooks/postgres_etl.ipynb#X23sZmlsZQ%3D%3D?line=1'>2</a>\u001b[0m \u001b[39mfor\u001b[39;00m index, row \u001b[39min\u001b[39;00m covid_crime_data\u001b[39m.\u001b[39miterrows():\n\u001b[1;32m----> <a href='vscode-notebook-cell:/c%3A/Users/neilg/ut/homework/Group%20Project%203/Project3-group4/jupyter_notebooks/postgres_etl.ipynb#X23sZmlsZQ%3D%3D?line=2'>3</a>\u001b[0m     record \u001b[39m=\u001b[39m CrimeData(\u001b[39m*\u001b[39m\u001b[39m*\u001b[39mrow\u001b[39m.\u001b[39mto_dict())\n\u001b[0;32m      <a href='vscode-notebook-cell:/c%3A/Users/neilg/ut/homework/Group%20Project%203/Project3-group4/jupyter_notebooks/postgres_etl.ipynb#X23sZmlsZQ%3D%3D?line=3'>4</a>\u001b[0m     session\u001b[39m.\u001b[39madd(record)\n",
      "\u001b[1;31mTypeError\u001b[0m: __init__() got an unexpected keyword argument 'Vector ID'"
     ]
    }
   ],
   "source": [
    "# Insert data from DataFrames\n",
    "for index, row in covid_crime_data.iterrows():\n",
    "    record = CrimeData(**row.to_dict())\n",
    "    session.add(record)"
   ]
  },
  {
   "cell_type": "code",
   "execution_count": null,
   "metadata": {},
   "outputs": [],
   "source": []
  },
  {
   "cell_type": "code",
   "execution_count": null,
   "metadata": {},
   "outputs": [],
   "source": [
    "# Commit the session to save changes\n",
    "session.commit()"
   ]
  },
  {
   "cell_type": "code",
   "execution_count": null,
   "metadata": {},
   "outputs": [],
   "source": [
    "# Close the session\n",
    "session.close()"
   ]
  },
  {
   "cell_type": "code",
   "execution_count": null,
   "metadata": {},
   "outputs": [],
   "source": []
  }
 ],
 "metadata": {
  "kernelspec": {
   "display_name": "dev",
   "language": "python",
   "name": "python3"
  },
  "language_info": {
   "codemirror_mode": {
    "name": "ipython",
    "version": 3
   },
   "file_extension": ".py",
   "mimetype": "text/x-python",
   "name": "python",
   "nbconvert_exporter": "python",
   "pygments_lexer": "ipython3",
   "version": "3.10.12"
  }
 },
 "nbformat": 4,
 "nbformat_minor": 2
}
